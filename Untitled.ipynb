{
 "cells": [
  {
   "cell_type": "code",
   "execution_count": 1,
   "metadata": {},
   "outputs": [],
   "source": [
    "%matplotlib inline\n",
    "\n",
    "import matplotlib\n",
    "import numpy as np\n",
    "import matplotlib.pyplot as plt\n",
    "import gamelib\n",
    "from IPython.display import clear_output as clear\n",
    "from random import randint"
   ]
  },
  {
   "cell_type": "code",
   "execution_count": null,
   "metadata": {},
   "outputs": [
    {
     "name": "stdout",
     "output_type": "stream",
     "text": [
      "Ask 22\n"
     ]
    },
    {
     "data": {
      "image/png": "[encoded data removed]",
      "text/plain": [
       "<Figure size 432x288 with 1 Axes>"
      ]
     },
     "metadata": {
      "needs_background": "light"
     },
     "output_type": "display_data"
    }
   ],
   "source": [
    "\n",
    "\n",
    "game = gamelib.game()\n",
    "print(game.get_n())\n",
    "\n",
    "a = [1 for i in range(100)]\n",
    "win = False\n",
    "i = 0\n",
    "step = 100\n",
    "\n",
    "while input() != 'exit':\n",
    "    clear(wait=True)\n",
    "    if a.count(max(a)) == 1:\n",
    "        print('Pick {}'.format(a.index(max(a))))\n",
    "        x = game.pick(a.index(max(a)))\n",
    "        if x != -1:\n",
    "            print(\"Yeah, boyy! {} requests\".format(x))\n",
    "            break\n",
    "        else:\n",
    "            a[a.index(max(a))] = 0\n",
    "    i = -1\n",
    "    c = 0\n",
    "    s = sum(a)\n",
    "    while c <= s/2:\n",
    "        i += 1\n",
    "        c += a[i]\n",
    "    if a[i-1] > a[i+1]:\n",
    "        i -= 1\n",
    "    print('Ask {}'.format(i))\n",
    "    if game.req(i) == 1:\n",
    "        for j in range(i+1, 100):\n",
    "            a[j] *= 10\n",
    "    else:\n",
    "        for j in range(0, i+1):\n",
    "            a[j] *= 10\n",
    "    plt.plot(list(i for i in range(100)), a)\n",
    "    plt.show()\n",
    "\n",
    "# TODO Выбирать стратегию: проверять или искать"
   ]
  },
  {
   "cell_type": "code",
   "execution_count": 6,
   "metadata": {},
   "outputs": [
    {
     "data": {
      "image/png": "[encoded data removed]",
      "text/plain": [
       "<Figure size 432x288 with 1 Axes>"
      ]
     },
     "metadata": {
      "needs_background": "light"
     },
     "output_type": "display_data"
    }
   ],
   "source": [
    "import matplotlib.pyplot as plt\n",
    "plt.plot([1,2,3,4])\n",
    "plt.ylabel('some numbers')\n",
    "plt.show()"
   ]
  },
  {
   "cell_type": "code",
   "execution_count": null,
   "metadata": {},
   "outputs": [],
   "source": [
    "\n",
    "\n",
    "game = gamelib.game()\n",
    "print('Choose your destiny...')\n",
    "\n",
    "a = [1 for i in range(100)]\n",
    "win = False\n",
    "i = 0\n",
    "inp = input()\n",
    "\n",
    "while inp and not win:\n",
    "    clear(wait=True)\n",
    "    inp = inp.split()\n",
    "    if inp[0] == 'p':\n",
    "        game.pick(int(inp[1]))\n",
    "    else:\n",
    "        game.req(int(inp[0]))\n",
    "    plt.plot(list(i for i in range(100)), a)\n",
    "    plt.show()\n",
    "\n",
    "# TODO Выбирать стратегию: проверять или искать"
   ]
  }
 ],
 "metadata": {
  "kernelspec": {
   "display_name": "Python 3",
   "language": "python",
   "name": "python3"
  },
  "language_info": {
   "codemirror_mode": {
    "name": "ipython",
    "version": 3
   },
   "file_extension": ".py",
   "mimetype": "text/x-python",
   "name": "python",
   "nbconvert_exporter": "python",
   "pygments_lexer": "ipython3",
   "version": "3.6.9"
  }
 },
 "nbformat": 4,
 "nbformat_minor": 2
}
