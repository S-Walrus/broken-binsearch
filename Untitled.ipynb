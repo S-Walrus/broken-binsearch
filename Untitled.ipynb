{
 "cells": [
  {
   "cell_type": "code",
   "execution_count": 5,
   "metadata": {},
   "outputs": [
    {
     "name": "stdout",
     "output_type": "stream",
     "text": [
      "Pick 93\n",
      "Yeah, boyy! 8 requests\n"
     ]
    }
   ],
   "source": [
    "\n",
    "\n",
    "game = gamelib.game()\n",
    "print(game.get_n())\n",
    "\n",
    "a = [1 for i in range(100)]\n",
    "win = False\n",
    "i = 0\n",
    "step = 100\n",
    "\n",
    "while input() != 'exit':\n",
    "    clear(wait=True)\n",
    "    if a.count(max(a)) == 1:\n",
    "        print('Pick {}'.format(a.index(max(a))))\n",
    "        x = game.pick(a.index(max(a)))\n",
    "        if x != -1:\n",
    "            print(\"Yeah, boyy! {} requests\".format(x))\n",
    "            break\n",
    "        else:\n",
    "            a[a.index(max(a))] = 0\n",
    "    i = -1\n",
    "    c = 0\n",
    "    s = sum(a)\n",
    "    while c <= s/2:\n",
    "        i += 1\n",
    "        c += a[i]\n",
    "    if a[i-1] > a[i+1]:\n",
    "        i -= 1\n",
    "    print('Ask {}'.format(i))\n",
    "    if game.req(i) == 1:\n",
    "        for j in range(i+1, 100):\n",
    "            a[j] *= 10\n",
    "    else:\n",
    "        for j in range(0, i+1):\n",
    "            a[j] *= 10\n",
    "    plt.plot(list(i for i in range(100)), a)\n",
    "    plt.show()\n",
    "\n",
    "# TODO Выбирать стратегию: проверять или искать"
   ]
  },
  {
   "cell_type": "code",
   "execution_count": 4,
   "metadata": {},
   "outputs": [
    {
     "data": {
      "text/plain": [
       "<Figure size 640x480 with 1 Axes>"
      ]
     },
     "metadata": {},
     "output_type": "display_data"
    }
   ],
   "source": [
    "import matplotlib.pyplot as plt\n",
    "plt.plot([1,2,3,4])\n",
    "plt.ylabel('some numbers')\n",
    "plt.show()"
   ]
  },
  {
   "cell_type": "code",
   "execution_count": null,
   "metadata": {},
   "outputs": [],
   "source": [
    "\n",
    "\n",
    "game = gamelib.game()\n",
    "print('Choose your destiny...')\n",
    "\n",
    "a = [1 for i in range(100)]\n",
    "win = False\n",
    "i = 0\n",
    "inp = input()\n",
    "\n",
    "while inp and not win:\n",
    "    clear(wait=True)\n",
    "    inp = inp.split()\n",
    "    if inp[0] == 'p':\n",
    "        game.pick(int(inp[1]))\n",
    "    else:\n",
    "        game.req(int(inp[0]))\n",
    "    plt.plot(list(i for i in range(100)), a)\n",
    "    plt.show()\n",
    "\n",
    "# TODO Выбирать стратегию: проверять или искать"
   ]
  },
  {
   "cell_type": "code",
   "execution_count": 2,
   "metadata": {},
   "outputs": [],
   "source": [
    "from probdistr import ProbDistributor\n",
    "import matplotlib.pyplot as plt"
   ]
  },
  {
   "cell_type": "code",
   "execution_count": 3,
   "metadata": {},
   "outputs": [],
   "source": [
    "probd = ProbDistributor(3/4, 1/4, 100)"
   ]
  },
  {
   "cell_type": "code",
   "execution_count": null,
   "metadata": {},
   "outputs": [],
   "source": [
    "probd.update()"
   ]
  },
  {
   "cell_type": "code",
   "execution_count": 12,
   "metadata": {},
   "outputs": [
    {
     "data": {
      "image/png": "[encoded data removed]",
      "text/plain": [
       "<Figure size 432x288 with 1 Axes>"
      ]
     },
     "metadata": {
      "needs_background": "light"
     },
     "output_type": "display_data"
    }
   ],
   "source": [
    "from IPython.display import clear_output\n",
    "#print(probd.update(60))\n",
    "plt.plot(probd.P)\n",
    "plt.show()"
   ]
  },
  {
   "cell_type": "code",
   "execution_count": 1,
   "metadata": {},
   "outputs": [],
   "source": [
    "%matplotlib inline\n",
    "\n",
    "import matplotlib\n",
    "import numpy as np\n",
    "import matplotlib.pyplot as plt\n",
    "from gamelib import Game\n",
    "from IPython.display import clear_output as clear\n",
    "from random import randint\n",
    "from probdistr import ProbDistributor"
   ]
  },
  {
   "cell_type": "code",
   "execution_count": null,
   "metadata": {},
   "outputs": [
    {
     "name": "stdout",
     "output_type": "stream",
     "text": [
      "54\n",
      "True\n",
      "1.0627541043855444002682516000850410629456988586625670501184645532340447653486828809873355154327440502582736810640934978516516784734072901427365998218740260893165048243496423354281237268314513724547674145130668179106407976790246004265948368269699626422413913173743889548134322588840315518075416912203859768150374247902899353253882613269400099356466712075195525929504412331260957151652074025276488005521570593039637105319588531770942924503784942926100910065780173990785405232561946343011122009665724231\n"
     ]
    },
    {
     "data": {
      "image/png": "[encoded data removed]",
      "text/plain": [
       "<Figure size 432x288 with 1 Axes>"
      ]
     },
     "metadata": {
      "needs_background": "light"
     },
     "output_type": "display_data"
    }
   ],
   "source": [
    "p_lie = 1/4\n",
    "game = Game(p_lie, 100)\n",
    "print(game.get_n())\n",
    "probd = ProbDistributor(1 - p_lie, p_lie, 100)\n",
    "\n",
    "while True:\n",
    "    clear(wait=True)\n",
    "    i = int(input())\n",
    "    res = game.req(i)\n",
    "    print(res)\n",
    "    print(probd.update(i, res))\n",
    "    plt.plot(probd.P)\n",
    "    plt.show()"
   ]
  },
  {
   "cell_type": "code",
   "execution_count": null,
   "metadata": {},
   "outputs": [],
   "source": [
    "sum()"
   ]
  }
 ],
 "metadata": {
  "kernelspec": {
   "display_name": "Python 3",
   "language": "python",
   "name": "python3"
  }
 },
 "nbformat": 4,
 "nbformat_minor": 2
}
